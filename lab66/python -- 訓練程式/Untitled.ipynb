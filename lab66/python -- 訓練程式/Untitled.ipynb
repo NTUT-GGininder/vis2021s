{
 "cells": [
  {
   "cell_type": "code",
   "execution_count": 103,
   "id": "8a8026c2",
   "metadata": {},
   "outputs": [],
   "source": [
    "import pandas as pd\n",
    "import matplotlib.pyplot as plt\n",
    "import numpy as np\n",
    "from sklearn.model_selection import train_test_split\n",
    "from sklearn import tree\n",
    "import math"
   ]
  },
  {
   "cell_type": "code",
   "execution_count": 188,
   "id": "a9e6e4cf",
   "metadata": {},
   "outputs": [
    {
     "data": {
      "text/html": [
       "<div>\n",
       "<style scoped>\n",
       "    .dataframe tbody tr th:only-of-type {\n",
       "        vertical-align: middle;\n",
       "    }\n",
       "\n",
       "    .dataframe tbody tr th {\n",
       "        vertical-align: top;\n",
       "    }\n",
       "\n",
       "    .dataframe thead th {\n",
       "        text-align: right;\n",
       "    }\n",
       "</style>\n",
       "<table border=\"1\" class=\"dataframe\">\n",
       "  <thead>\n",
       "    <tr style=\"text-align: right;\">\n",
       "      <th></th>\n",
       "      <th>Wife's age</th>\n",
       "      <th>Wife's education</th>\n",
       "      <th>Husband's education</th>\n",
       "      <th>Number of children ever born</th>\n",
       "      <th>Wife's religion</th>\n",
       "      <th>Wife's now working?</th>\n",
       "      <th>Husband's occupation</th>\n",
       "      <th>Standard-of-living index</th>\n",
       "      <th>Media exposure</th>\n",
       "      <th>Contraceptive method used</th>\n",
       "    </tr>\n",
       "  </thead>\n",
       "  <tbody>\n",
       "    <tr>\n",
       "      <th>0</th>\n",
       "      <td>24</td>\n",
       "      <td>2</td>\n",
       "      <td>3</td>\n",
       "      <td>3</td>\n",
       "      <td>1</td>\n",
       "      <td>1</td>\n",
       "      <td>2</td>\n",
       "      <td>3</td>\n",
       "      <td>0</td>\n",
       "      <td>1</td>\n",
       "    </tr>\n",
       "    <tr>\n",
       "      <th>1</th>\n",
       "      <td>45</td>\n",
       "      <td>1</td>\n",
       "      <td>3</td>\n",
       "      <td>10</td>\n",
       "      <td>1</td>\n",
       "      <td>1</td>\n",
       "      <td>3</td>\n",
       "      <td>4</td>\n",
       "      <td>0</td>\n",
       "      <td>1</td>\n",
       "    </tr>\n",
       "    <tr>\n",
       "      <th>2</th>\n",
       "      <td>43</td>\n",
       "      <td>2</td>\n",
       "      <td>3</td>\n",
       "      <td>7</td>\n",
       "      <td>1</td>\n",
       "      <td>1</td>\n",
       "      <td>3</td>\n",
       "      <td>4</td>\n",
       "      <td>0</td>\n",
       "      <td>1</td>\n",
       "    </tr>\n",
       "    <tr>\n",
       "      <th>3</th>\n",
       "      <td>42</td>\n",
       "      <td>3</td>\n",
       "      <td>2</td>\n",
       "      <td>9</td>\n",
       "      <td>1</td>\n",
       "      <td>1</td>\n",
       "      <td>3</td>\n",
       "      <td>3</td>\n",
       "      <td>0</td>\n",
       "      <td>1</td>\n",
       "    </tr>\n",
       "    <tr>\n",
       "      <th>4</th>\n",
       "      <td>36</td>\n",
       "      <td>3</td>\n",
       "      <td>3</td>\n",
       "      <td>8</td>\n",
       "      <td>1</td>\n",
       "      <td>1</td>\n",
       "      <td>3</td>\n",
       "      <td>2</td>\n",
       "      <td>0</td>\n",
       "      <td>1</td>\n",
       "    </tr>\n",
       "    <tr>\n",
       "      <th>...</th>\n",
       "      <td>...</td>\n",
       "      <td>...</td>\n",
       "      <td>...</td>\n",
       "      <td>...</td>\n",
       "      <td>...</td>\n",
       "      <td>...</td>\n",
       "      <td>...</td>\n",
       "      <td>...</td>\n",
       "      <td>...</td>\n",
       "      <td>...</td>\n",
       "    </tr>\n",
       "    <tr>\n",
       "      <th>1468</th>\n",
       "      <td>33</td>\n",
       "      <td>4</td>\n",
       "      <td>4</td>\n",
       "      <td>2</td>\n",
       "      <td>1</td>\n",
       "      <td>0</td>\n",
       "      <td>2</td>\n",
       "      <td>4</td>\n",
       "      <td>0</td>\n",
       "      <td>3</td>\n",
       "    </tr>\n",
       "    <tr>\n",
       "      <th>1469</th>\n",
       "      <td>33</td>\n",
       "      <td>4</td>\n",
       "      <td>4</td>\n",
       "      <td>3</td>\n",
       "      <td>1</td>\n",
       "      <td>1</td>\n",
       "      <td>1</td>\n",
       "      <td>4</td>\n",
       "      <td>0</td>\n",
       "      <td>3</td>\n",
       "    </tr>\n",
       "    <tr>\n",
       "      <th>1470</th>\n",
       "      <td>39</td>\n",
       "      <td>3</td>\n",
       "      <td>3</td>\n",
       "      <td>8</td>\n",
       "      <td>1</td>\n",
       "      <td>0</td>\n",
       "      <td>1</td>\n",
       "      <td>4</td>\n",
       "      <td>0</td>\n",
       "      <td>3</td>\n",
       "    </tr>\n",
       "    <tr>\n",
       "      <th>1471</th>\n",
       "      <td>33</td>\n",
       "      <td>3</td>\n",
       "      <td>3</td>\n",
       "      <td>4</td>\n",
       "      <td>1</td>\n",
       "      <td>0</td>\n",
       "      <td>2</td>\n",
       "      <td>2</td>\n",
       "      <td>0</td>\n",
       "      <td>3</td>\n",
       "    </tr>\n",
       "    <tr>\n",
       "      <th>1472</th>\n",
       "      <td>17</td>\n",
       "      <td>3</td>\n",
       "      <td>3</td>\n",
       "      <td>1</td>\n",
       "      <td>1</td>\n",
       "      <td>1</td>\n",
       "      <td>2</td>\n",
       "      <td>4</td>\n",
       "      <td>0</td>\n",
       "      <td>3</td>\n",
       "    </tr>\n",
       "  </tbody>\n",
       "</table>\n",
       "<p>1473 rows × 10 columns</p>\n",
       "</div>"
      ],
      "text/plain": [
       "      Wife's age  Wife's education  Husband's education  \\\n",
       "0             24                 2                    3   \n",
       "1             45                 1                    3   \n",
       "2             43                 2                    3   \n",
       "3             42                 3                    2   \n",
       "4             36                 3                    3   \n",
       "...          ...               ...                  ...   \n",
       "1468          33                 4                    4   \n",
       "1469          33                 4                    4   \n",
       "1470          39                 3                    3   \n",
       "1471          33                 3                    3   \n",
       "1472          17                 3                    3   \n",
       "\n",
       "      Number of children ever born  Wife's religion  Wife's now working?  \\\n",
       "0                                3                1                    1   \n",
       "1                               10                1                    1   \n",
       "2                                7                1                    1   \n",
       "3                                9                1                    1   \n",
       "4                                8                1                    1   \n",
       "...                            ...              ...                  ...   \n",
       "1468                             2                1                    0   \n",
       "1469                             3                1                    1   \n",
       "1470                             8                1                    0   \n",
       "1471                             4                1                    0   \n",
       "1472                             1                1                    1   \n",
       "\n",
       "      Husband's occupation  Standard-of-living index  Media exposure  \\\n",
       "0                        2                         3               0   \n",
       "1                        3                         4               0   \n",
       "2                        3                         4               0   \n",
       "3                        3                         3               0   \n",
       "4                        3                         2               0   \n",
       "...                    ...                       ...             ...   \n",
       "1468                     2                         4               0   \n",
       "1469                     1                         4               0   \n",
       "1470                     1                         4               0   \n",
       "1471                     2                         2               0   \n",
       "1472                     2                         4               0   \n",
       "\n",
       "      Contraceptive method used  \n",
       "0                             1  \n",
       "1                             1  \n",
       "2                             1  \n",
       "3                             1  \n",
       "4                             1  \n",
       "...                         ...  \n",
       "1468                          3  \n",
       "1469                          3  \n",
       "1470                          3  \n",
       "1471                          3  \n",
       "1472                          3  \n",
       "\n",
       "[1473 rows x 10 columns]"
      ]
     },
     "execution_count": 188,
     "metadata": {},
     "output_type": "execute_result"
    }
   ],
   "source": [
    "df = pd.read_csv('Data.csv')\n",
    "df"
   ]
  },
  {
   "cell_type": "code",
   "execution_count": 189,
   "id": "951656dd",
   "metadata": {},
   "outputs": [],
   "source": [
    "df.loc[(df['Contraceptive method used']==1),'Contraceptive method used']=0\n",
    "df.loc[(df['Contraceptive method used']==2) | (df['Contraceptive method used']==3),'Contraceptive method used']=1\n",
    "df.loc[(df['Husband\\'s education']>=2),'Husband\\'s education']=2\n",
    "df.loc[(df['Wife\\'s education']>=2),'Wife\\'s education']=2\n",
    "df.loc[(df['Standard-of-living index']>=2),'Standard-of-living index']=2"
   ]
  },
  {
   "cell_type": "code",
   "execution_count": 190,
   "id": "50b5aa3b",
   "metadata": {},
   "outputs": [],
   "source": [
    "y=[]\n",
    "x=[]\n",
    "for i in range(2):\n",
    "    for j in range(2):\n",
    "        y.append(df[(df['Wife\\'s now working?']==i) & (df['Contraceptive method used']==j)]['Wife\\'s now working?'].count()/df['Wife\\'s now working?'].count())\n",
    "        x.append(str(i)+str(j))"
   ]
  },
  {
   "cell_type": "code",
   "execution_count": 191,
   "id": "b11a829c",
   "metadata": {},
   "outputs": [
    {
     "data": {
      "text/plain": [
       "<BarContainer object of 4 artists>"
      ]
     },
     "execution_count": 191,
     "metadata": {},
     "output_type": "execute_result"
    },
    {
     "data": {
      "image/png": "[encoded data removed]",
      "text/plain": [
       "<Figure size 432x288 with 1 Axes>"
      ]
     },
     "metadata": {
      "needs_background": "light"
     },
     "output_type": "display_data"
    }
   ],
   "source": [
    "plt.title(\"Distribution of Wife\\'s now working and contraception\")\n",
    "plt.bar(x, y)"
   ]
  },
  {
   "cell_type": "code",
   "execution_count": 192,
   "id": "6fe2702c",
   "metadata": {},
   "outputs": [
    {
     "name": "stdout",
     "output_type": "stream",
     "text": [
      "0.11541072640868975 0.13509843856076034 0\n",
      "0.11541072640868975 0.13509843856076034 0\n",
      "0.31160896130346233 0.4378818737270876 1\n",
      "0.31160896130346233 0.4378818737270876 1\n"
     ]
    }
   ],
   "source": [
    "yy=[]\n",
    "for i in range(4):\n",
    "    print(y[i//2*2], y[i//2*2+1],i//2)\n",
    "    yy.append(y[i]/(y[i//2*2]+y[i//2*2+1]))"
   ]
  },
  {
   "cell_type": "code",
   "execution_count": 194,
   "id": "4e04d5d5",
   "metadata": {},
   "outputs": [
    {
     "data": {
      "text/plain": [
       "<BarContainer object of 4 artists>"
      ]
     },
     "execution_count": 194,
     "metadata": {},
     "output_type": "execute_result"
    },
    {
     "data": {
      "image/png": "[encoded data removed]",
      "text/plain": [
       "<Figure size 432x288 with 1 Axes>"
      ]
     },
     "metadata": {
      "needs_background": "light"
     },
     "output_type": "display_data"
    }
   ],
   "source": [
    "plt.bar(x, yy)"
   ]
  },
  {
   "cell_type": "code",
   "execution_count": 195,
   "id": "f1599f73",
   "metadata": {},
   "outputs": [],
   "source": [
    "yp = -y[0]*math.log(y[0],2) - y[2]*math.log(y[2],2)\n",
    "yn = -y[1]*math.log(y[1],2) - y[3]*math.log(y[3],2)"
   ]
  },
  {
   "cell_type": "code",
   "execution_count": 196,
   "id": "ecb3c24e",
   "metadata": {},
   "outputs": [
    {
     "name": "stdout",
     "output_type": "stream",
     "text": [
      "0.8998267242736786\n"
     ]
    }
   ],
   "source": [
    "yent = (y[0]+y[2])*yp + (y[1]+y[3])*yn\n",
    "print(yent)"
   ]
  },
  {
   "cell_type": "code",
   "execution_count": 197,
   "id": "a6104ba8",
   "metadata": {},
   "outputs": [
    {
     "name": "stdout",
     "output_type": "stream",
     "text": [
      "0.22439232345063748\n",
      "0.7494908350305499\n"
     ]
    }
   ],
   "source": [
    "ynoni = math.pow(y[0],2) + math.pow(y[1],2)\n",
    "yi = math.pow(y[2],2) + math.pow(y[3],2)\n",
    "ygini = (y[0]+y[1])*ynoni + (y[2]+y[3])*yi\n",
    "print(ygini)\n",
    "print(y[2]+y[3])"
   ]
  },
  {
   "cell_type": "code",
   "execution_count": 127,
   "id": "92c77837",
   "metadata": {},
   "outputs": [
    {
     "data": {
      "text/plain": [
       "1.0"
      ]
     },
     "execution_count": 127,
     "metadata": {},
     "output_type": "execute_result"
    }
   ],
   "source": [
    "sum(y)"
   ]
  },
  {
   "cell_type": "code",
   "execution_count": 133,
   "id": "b7638172",
   "metadata": {},
   "outputs": [],
   "source": [
    "x=df.drop(columns=[\"Contraceptive method used\"])\n",
    "y=df[\"Contraceptive method used\"]"
   ]
  },
  {
   "cell_type": "code",
   "execution_count": 203,
   "id": "88c86f4f",
   "metadata": {},
   "outputs": [],
   "source": [
    "arr=[0 for i in range(40)]\n",
    "accx=[i+1 for i in range(40)]\n",
    "x=df.drop(columns=[\"Contraceptive method used\"])\n",
    "y=df[\"Contraceptive method used\"]\n",
    "#del x[\"Wife's religion\"]\n",
    "for i in range(100):\n",
    "    x_train, x_test, y_train, y_test = train_test_split(x, y, test_size = 0.3)\n",
    "    for j in range(40):\n",
    "        clf = tree.DecisionTreeClassifier(max_depth=j+1)\n",
    "        clf.fit(x_train, y_train)\n",
    "        arr[j] += clf.score(x_test, y_test)\n",
    "for i in range(len(arr)):\n",
    "    arr[i]/=100\n"
   ]
  },
  {
   "cell_type": "code",
   "execution_count": 204,
   "id": "e8607074",
   "metadata": {},
   "outputs": [
    {
     "data": {
      "text/plain": [
       "[<matplotlib.lines.Line2D at 0x26d23079190>]"
      ]
     },
     "execution_count": 204,
     "metadata": {},
     "output_type": "execute_result"
    },
    {
     "data": {
      "image/png": "[encoded data removed]",
      "text/plain": [
       "<Figure size 432x288 with 1 Axes>"
      ]
     },
     "metadata": {
      "needs_background": "light"
     },
     "output_type": "display_data"
    }
   ],
   "source": [
    "plt.title(\"Contains religion\")\n",
    "plt.plot(accx, arr)"
   ]
  },
  {
   "cell_type": "code",
   "execution_count": null,
   "id": "30ac3c73",
   "metadata": {},
   "outputs": [],
   "source": []
  }
 ],
 "metadata": {
  "kernelspec": {
   "display_name": "Python 3",
   "language": "python",
   "name": "python3"
  },
  "language_info": {
   "codemirror_mode": {
    "name": "ipython",
    "version": 3
   },
   "file_extension": ".py",
   "mimetype": "text/x-python",
   "name": "python",
   "nbconvert_exporter": "python",
   "pygments_lexer": "ipython3",
   "version": "3.8.8"
  }
 },
 "nbformat": 4,
 "nbformat_minor": 5
}
